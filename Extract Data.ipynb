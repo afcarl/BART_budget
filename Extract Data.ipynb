{
 "cells": [
  {
   "cell_type": "code",
   "execution_count": 1,
   "metadata": {
    "collapsed": false
   },
   "outputs": [],
   "source": [
    "%matplotlib inline  \n",
    "\n",
    "import itertools\n",
    "\n",
    "#data & math libraries\n",
    "import pandas as pd  # tables for mixed data\n",
    "import numpy as np   # math and array functions\n",
    "\n",
    "#data visualization\n",
    "import matplotlib.pyplot as plt\n",
    "import matplotlib\n",
    "matplotlib.rcParams['figure.figsize'] = (10.0, 5.0)\n",
    "\n",
    "from os import listdir\n",
    "from os.path import expanduser\n",
    "from os.path import isfile, join\n"
   ]
  },
  {
   "cell_type": "code",
   "execution_count": 8,
   "metadata": {
    "collapsed": false
   },
   "outputs": [],
   "source": [
    "data_folder = './data/income_expenses_FY2015/'\n",
    "excel_folder = data_folder + 'raw_excel/'\n"
   ]
  },
  {
   "cell_type": "code",
   "execution_count": 25,
   "metadata": {
    "collapsed": false
   },
   "outputs": [
    {
     "name": "stdout",
     "output_type": "stream",
     "text": [
      "(19471, 11)\n",
      "(22314, 11)\n",
      "(18330, 11)\n",
      "(19211, 11)\n",
      "(20175, 11)\n",
      "(24053, 11)\n",
      "(20534, 11)\n",
      "(19273, 11)\n",
      "(23900, 11)\n",
      "(30087, 11)\n",
      "(19365, 11)\n",
      "(22933, 11)\n",
      "(259646, 12)\n"
     ]
    },
    {
     "data": {
      "text/html": [
       "<div>\n",
       "<table border=\"1\" class=\"dataframe\">\n",
       "  <thead>\n",
       "    <tr style=\"text-align: right;\">\n",
       "      <th></th>\n",
       "      <th>Account</th>\n",
       "      <th>Amount</th>\n",
       "      <th>Date</th>\n",
       "      <th>Descr</th>\n",
       "      <th>Descriptio</th>\n",
       "      <th>Description</th>\n",
       "      <th>Fund</th>\n",
       "      <th>Line Descr</th>\n",
       "      <th>Period</th>\n",
       "      <th>Source</th>\n",
       "      <th>Unit</th>\n",
       "      <th>Year</th>\n",
       "    </tr>\n",
       "  </thead>\n",
       "  <tbody>\n",
       "    <tr>\n",
       "      <th>0</th>\n",
       "      <td>401011</td>\n",
       "      <td>-123454.25</td>\n",
       "      <td>2014-10-31</td>\n",
       "      <td>Extracted Fare - Blue</td>\n",
       "      <td>NaN</td>\n",
       "      <td>To record October  2014 EZ Rid</td>\n",
       "      <td>30.0</td>\n",
       "      <td>EzRider Extracted Fare Oct 14</td>\n",
       "      <td>4</td>\n",
       "      <td>GJA</td>\n",
       "      <td>BARTD</td>\n",
       "      <td>2015</td>\n",
       "    </tr>\n",
       "    <tr>\n",
       "      <th>1</th>\n",
       "      <td>401011</td>\n",
       "      <td>-18444271.00</td>\n",
       "      <td>2014-10-31</td>\n",
       "      <td>Extracted Fare - Blue</td>\n",
       "      <td>NaN</td>\n",
       "      <td>To record October  2014 Extrac</td>\n",
       "      <td>30.0</td>\n",
       "      <td>Extr Fare-Blue Tkts  Oct 14</td>\n",
       "      <td>4</td>\n",
       "      <td>GJA</td>\n",
       "      <td>BARTD</td>\n",
       "      <td>2015</td>\n",
       "    </tr>\n",
       "    <tr>\n",
       "      <th>2</th>\n",
       "      <td>401011</td>\n",
       "      <td>-100444.00</td>\n",
       "      <td>2014-10-31</td>\n",
       "      <td>Extracted Fare - Blue</td>\n",
       "      <td>NaN</td>\n",
       "      <td>To record October  2014 EZ Rid</td>\n",
       "      <td>30.0</td>\n",
       "      <td>EzRider AEDP Dict-Airli Oct 14</td>\n",
       "      <td>4</td>\n",
       "      <td>GJA</td>\n",
       "      <td>BARTD</td>\n",
       "      <td>2015</td>\n",
       "    </tr>\n",
       "    <tr>\n",
       "      <th>3</th>\n",
       "      <td>401011</td>\n",
       "      <td>-6227684.00</td>\n",
       "      <td>2014-10-31</td>\n",
       "      <td>Extracted Fare - Blue</td>\n",
       "      <td>NaN</td>\n",
       "      <td>To record October  2014 Extrac</td>\n",
       "      <td>30.0</td>\n",
       "      <td>Extr Fare-Translink HVD Oct14</td>\n",
       "      <td>4</td>\n",
       "      <td>GJA</td>\n",
       "      <td>BARTD</td>\n",
       "      <td>2015</td>\n",
       "    </tr>\n",
       "    <tr>\n",
       "      <th>4</th>\n",
       "      <td>401011</td>\n",
       "      <td>-15292418.00</td>\n",
       "      <td>2014-10-31</td>\n",
       "      <td>Extracted Fare - Blue</td>\n",
       "      <td>NaN</td>\n",
       "      <td>To record October  2014 Extrac</td>\n",
       "      <td>30.0</td>\n",
       "      <td>Extr Fare-Tlink ECash Oct 14</td>\n",
       "      <td>4</td>\n",
       "      <td>GJA</td>\n",
       "      <td>BARTD</td>\n",
       "      <td>2015</td>\n",
       "    </tr>\n",
       "  </tbody>\n",
       "</table>\n",
       "</div>"
      ],
      "text/plain": [
       "   Account       Amount       Date                  Descr Descriptio  \\\n",
       "0   401011   -123454.25 2014-10-31  Extracted Fare - Blue        NaN   \n",
       "1   401011 -18444271.00 2014-10-31  Extracted Fare - Blue        NaN   \n",
       "2   401011   -100444.00 2014-10-31  Extracted Fare - Blue        NaN   \n",
       "3   401011  -6227684.00 2014-10-31  Extracted Fare - Blue        NaN   \n",
       "4   401011 -15292418.00 2014-10-31  Extracted Fare - Blue        NaN   \n",
       "\n",
       "                      Description  Fund                      Line Descr  \\\n",
       "0  To record October  2014 EZ Rid  30.0   EzRider Extracted Fare Oct 14   \n",
       "1  To record October  2014 Extrac  30.0     Extr Fare-Blue Tkts  Oct 14   \n",
       "2  To record October  2014 EZ Rid  30.0  EzRider AEDP Dict-Airli Oct 14   \n",
       "3  To record October  2014 Extrac  30.0   Extr Fare-Translink HVD Oct14   \n",
       "4  To record October  2014 Extrac  30.0    Extr Fare-Tlink ECash Oct 14   \n",
       "\n",
       "   Period Source   Unit  Year  \n",
       "0       4    GJA  BARTD  2015  \n",
       "1       4    GJA  BARTD  2015  \n",
       "2       4    GJA  BARTD  2015  \n",
       "3       4    GJA  BARTD  2015  \n",
       "4       4    GJA  BARTD  2015  "
      ]
     },
     "execution_count": 25,
     "metadata": {},
     "output_type": "execute_result"
    }
   ],
   "source": [
    "#Read the excel files, combine them and save to one file.\n",
    "\n",
    "onlyfiles = [f for f in listdir(excel_folder) if isfile(join(excel_folder, f))]\n",
    "\n",
    "df = pd.DataFrame()\n",
    "for i in range(len(onlyfiles)):\n",
    "    df1 = pd.read_excel(excel_folder+onlyfiles[i])\n",
    "    df = df.append(df1)\n",
    "    print(df1.shape)\n",
    "\n",
    "print(df.shape)\n",
    "\n",
    "df.head()"
   ]
  },
  {
   "cell_type": "code",
   "execution_count": 26,
   "metadata": {
    "collapsed": false
   },
   "outputs": [],
   "source": [
    "#Save file\n",
    "df.to_csv(data_folder+'all_income_expenses_FY2015.csv', index=False)"
   ]
  },
  {
   "cell_type": "code",
   "execution_count": 27,
   "metadata": {
    "collapsed": false
   },
   "outputs": [
    {
     "data": {
      "text/html": [
       "<div>\n",
       "<table border=\"1\" class=\"dataframe\">\n",
       "  <thead>\n",
       "    <tr style=\"text-align: right;\">\n",
       "      <th>month</th>\n",
       "      <th>2014-10</th>\n",
       "      <th>2014-11</th>\n",
       "      <th>2014-12</th>\n",
       "      <th>2014-7</th>\n",
       "      <th>2014-8</th>\n",
       "      <th>2014-9</th>\n",
       "      <th>2015-1</th>\n",
       "      <th>2015-2</th>\n",
       "      <th>2015-3</th>\n",
       "      <th>2015-4</th>\n",
       "      <th>2015-5</th>\n",
       "      <th>2015-6</th>\n",
       "    </tr>\n",
       "    <tr>\n",
       "      <th>Descr</th>\n",
       "      <th></th>\n",
       "      <th></th>\n",
       "      <th></th>\n",
       "      <th></th>\n",
       "      <th></th>\n",
       "      <th></th>\n",
       "      <th></th>\n",
       "      <th></th>\n",
       "      <th></th>\n",
       "      <th></th>\n",
       "      <th></th>\n",
       "      <th></th>\n",
       "    </tr>\n",
       "  </thead>\n",
       "  <tbody>\n",
       "    <tr>\n",
       "      <th>AC Transit Feeder Agreement</th>\n",
       "      <td>-0.00</td>\n",
       "      <td>-0.00</td>\n",
       "      <td>-0.00</td>\n",
       "      <td>-0.00</td>\n",
       "      <td>-0.00</td>\n",
       "      <td>-0.00</td>\n",
       "      <td>-0.00</td>\n",
       "      <td>-2430000.00</td>\n",
       "      <td>-0.00</td>\n",
       "      <td>-270000.00</td>\n",
       "      <td>-270000.00</td>\n",
       "      <td>-270000.00</td>\n",
       "    </tr>\n",
       "    <tr>\n",
       "      <th>ACTC Measure BB - Paratransit</th>\n",
       "      <td>-0.00</td>\n",
       "      <td>-0.00</td>\n",
       "      <td>-0.00</td>\n",
       "      <td>-0.00</td>\n",
       "      <td>-0.00</td>\n",
       "      <td>-0.00</td>\n",
       "      <td>-0.00</td>\n",
       "      <td>-0.00</td>\n",
       "      <td>-0.00</td>\n",
       "      <td>-0.00</td>\n",
       "      <td>-0.00</td>\n",
       "      <td>376171.50</td>\n",
       "    </tr>\n",
       "    <tr>\n",
       "      <th>ACTC Measure BB - Transit</th>\n",
       "      <td>-0.00</td>\n",
       "      <td>-0.00</td>\n",
       "      <td>-0.00</td>\n",
       "      <td>-0.00</td>\n",
       "      <td>-0.00</td>\n",
       "      <td>-0.00</td>\n",
       "      <td>-0.00</td>\n",
       "      <td>-0.00</td>\n",
       "      <td>-0.00</td>\n",
       "      <td>-0.00</td>\n",
       "      <td>-0.00</td>\n",
       "      <td>125390.50</td>\n",
       "    </tr>\n",
       "    <tr>\n",
       "      <th>ADA Bus Service</th>\n",
       "      <td>-1114124.17</td>\n",
       "      <td>-1114124.17</td>\n",
       "      <td>-1113405.05</td>\n",
       "      <td>-1114124.17</td>\n",
       "      <td>-1114124.17</td>\n",
       "      <td>-1114124.17</td>\n",
       "      <td>-1114124.17</td>\n",
       "      <td>-1115233.93</td>\n",
       "      <td>-1114124.17</td>\n",
       "      <td>-1114124.17</td>\n",
       "      <td>-1114124.17</td>\n",
       "      <td>-1055562.98</td>\n",
       "    </tr>\n",
       "    <tr>\n",
       "      <th>ADA Revenue</th>\n",
       "      <td>70157.00</td>\n",
       "      <td>70157.00</td>\n",
       "      <td>70157.00</td>\n",
       "      <td>70157.00</td>\n",
       "      <td>70157.00</td>\n",
       "      <td>70157.00</td>\n",
       "      <td>70157.00</td>\n",
       "      <td>70157.00</td>\n",
       "      <td>70157.00</td>\n",
       "      <td>70157.00</td>\n",
       "      <td>70157.00</td>\n",
       "      <td>87960.58</td>\n",
       "    </tr>\n",
       "  </tbody>\n",
       "</table>\n",
       "</div>"
      ],
      "text/plain": [
       "month                             2014-10     2014-11     2014-12      2014-7  \\\n",
       "Descr                                                                           \n",
       "AC Transit Feeder Agreement         -0.00       -0.00       -0.00       -0.00   \n",
       "ACTC Measure BB - Paratransit       -0.00       -0.00       -0.00       -0.00   \n",
       "ACTC Measure BB - Transit           -0.00       -0.00       -0.00       -0.00   \n",
       "ADA Bus Service               -1114124.17 -1114124.17 -1113405.05 -1114124.17   \n",
       "ADA Revenue                      70157.00    70157.00    70157.00    70157.00   \n",
       "\n",
       "month                              2014-8      2014-9      2015-1      2015-2  \\\n",
       "Descr                                                                           \n",
       "AC Transit Feeder Agreement         -0.00       -0.00       -0.00 -2430000.00   \n",
       "ACTC Measure BB - Paratransit       -0.00       -0.00       -0.00       -0.00   \n",
       "ACTC Measure BB - Transit           -0.00       -0.00       -0.00       -0.00   \n",
       "ADA Bus Service               -1114124.17 -1114124.17 -1114124.17 -1115233.93   \n",
       "ADA Revenue                      70157.00    70157.00    70157.00    70157.00   \n",
       "\n",
       "month                              2015-3      2015-4      2015-5      2015-6  \n",
       "Descr                                                                          \n",
       "AC Transit Feeder Agreement         -0.00  -270000.00  -270000.00  -270000.00  \n",
       "ACTC Measure BB - Paratransit       -0.00       -0.00       -0.00   376171.50  \n",
       "ACTC Measure BB - Transit           -0.00       -0.00       -0.00   125390.50  \n",
       "ADA Bus Service               -1114124.17 -1114124.17 -1114124.17 -1055562.98  \n",
       "ADA Revenue                      70157.00    70157.00    70157.00    87960.58  "
      ]
     },
     "execution_count": 27,
     "metadata": {},
     "output_type": "execute_result"
    }
   ],
   "source": [
    "#create a new column with month and year combined\n",
    "df['month'] = df['Date'].dt.year.map(str) + '-' + df['Date'].dt.month.map(str)\n",
    "\n",
    "#Group all line items into their account descriptions. \n",
    "df_1 = df[['Descr', 'Amount', 'month']].groupby(['month','Descr']).sum()\n",
    "df_1 = df_1['Amount'].unstack('Descr')\n",
    "\n",
    "#reverse amounts so negative is cost positive is revenue \n",
    "df_1 = df_1.fillna(0)*-1\n",
    "\n",
    "#df_1 = df_1.applymap(lambda x:  '$ %.2f' % x)\n",
    "df_1.T.head()"
   ]
  },
  {
   "cell_type": "code",
   "execution_count": 38,
   "metadata": {
    "collapsed": false
   },
   "outputs": [],
   "source": [
    "#Save file\n",
    "summary_file_name = 'summary_income_expenses_FY2015.xlsx'\n",
    "writer = pd.ExcelWriter(data_folder+summary_file_name)\n",
    "df_1.T.to_excel(writer, sheet_name='monthy')"
   ]
  },
  {
   "cell_type": "code",
   "execution_count": 39,
   "metadata": {
    "collapsed": false
   },
   "outputs": [
    {
     "data": {
      "text/plain": [
       "<matplotlib.axes._subplots.AxesSubplot at 0x7f7dba8249e8>"
      ]
     },
     "execution_count": 39,
     "metadata": {},
     "output_type": "execute_result"
    },
    {
     "data": {
      "image/png": "[encoded data removed]",
      "text/plain": [
       "<matplotlib.figure.Figure at 0x7f7dbf04eda0>"
      ]
     },
     "metadata": {},
     "output_type": "display_data"
    }
   ],
   "source": [
    "#Test plot\n",
    "df_1[['DPR-Revenue Transit Vehicles', 'DPR-Systemwide Op & Control', 'DPR - Buildings']].plot()"
   ]
  },
  {
   "cell_type": "code",
   "execution_count": 40,
   "metadata": {
    "collapsed": false
   },
   "outputs": [
    {
     "data": {
      "text/html": [
       "<div>\n",
       "<table border=\"1\" class=\"dataframe\">\n",
       "  <thead>\n",
       "    <tr style=\"text-align: right;\">\n",
       "      <th></th>\n",
       "      <th></th>\n",
       "      <th>Amount</th>\n",
       "    </tr>\n",
       "    <tr>\n",
       "      <th>Account</th>\n",
       "      <th>Descr</th>\n",
       "      <th></th>\n",
       "    </tr>\n",
       "  </thead>\n",
       "  <tbody>\n",
       "    <tr>\n",
       "      <th>401011</th>\n",
       "      <th>Extracted Fare - Blue</th>\n",
       "      <td>-4.360651e+08</td>\n",
       "    </tr>\n",
       "    <tr>\n",
       "      <th>408020</th>\n",
       "      <th>Sales Tax Revenue</th>\n",
       "      <td>-2.331481e+08</td>\n",
       "    </tr>\n",
       "    <tr>\n",
       "      <th>601999</th>\n",
       "      <th>Dep Transferred to Accum Rev</th>\n",
       "      <td>-1.700253e+08</td>\n",
       "    </tr>\n",
       "    <tr>\n",
       "      <th>416485</th>\n",
       "      <th>FTA - 5337 Capital Improvement</th>\n",
       "      <td>-8.383333e+07</td>\n",
       "    </tr>\n",
       "    <tr>\n",
       "      <th>510201</th>\n",
       "      <th>Capital Reimbursements</th>\n",
       "      <td>-8.304158e+07</td>\n",
       "    </tr>\n",
       "  </tbody>\n",
       "</table>\n",
       "</div>"
      ],
      "text/plain": [
       "                                              Amount\n",
       "Account Descr                                       \n",
       "401011  Extracted Fare - Blue          -4.360651e+08\n",
       "408020  Sales Tax Revenue              -2.331481e+08\n",
       "601999  Dep Transferred to Accum Rev   -1.700253e+08\n",
       "416485  FTA - 5337 Capital Improvement -8.383333e+07\n",
       "510201  Capital Reimbursements         -8.304158e+07"
      ]
     },
     "execution_count": 40,
     "metadata": {},
     "output_type": "execute_result"
    }
   ],
   "source": [
    "df_2 = df[['Account', 'Descr', 'Amount']].groupby(['Account', 'Descr']).sum().sort_values(['Amount'])\n",
    "df_2.head()"
   ]
  },
  {
   "cell_type": "code",
   "execution_count": 41,
   "metadata": {
    "collapsed": false
   },
   "outputs": [],
   "source": [
    "df_2.to_excel(writer, sheet_name='year')\n",
    "writer.save()"
   ]
  },
  {
   "cell_type": "code",
   "execution_count": null,
   "metadata": {
    "collapsed": true
   },
   "outputs": [],
   "source": []
  }
 ],
 "metadata": {
  "kernelspec": {
   "display_name": "Python 3",
   "language": "python",
   "name": "python3"
  },
  "language_info": {
   "codemirror_mode": {
    "name": "ipython",
    "version": 3
   },
   "file_extension": ".py",
   "mimetype": "text/x-python",
   "name": "python",
   "nbconvert_exporter": "python",
   "pygments_lexer": "ipython3",
   "version": "3.5.1+"
  }
 },
 "nbformat": 4,
 "nbformat_minor": 0
}
